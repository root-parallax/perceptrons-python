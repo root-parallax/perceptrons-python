{
 "cells": [
  {
   "cell_type": "code",
   "execution_count": 1,
   "metadata": {},
   "outputs": [],
   "source": [
    "from random import choice\n",
    "from numpy import array, dot, random"
   ]
  },
  {
   "cell_type": "code",
   "execution_count": 2,
   "metadata": {},
   "outputs": [],
   "source": [
    "# Create a step function, in reference to Mathematica\n",
    "unit_step = lambda x: 0 if x < 0 else 1"
   ]
  },
  {
   "cell_type": "markdown",
   "metadata": {},
   "source": [
    "Now, Map the possible input to expected output.\n",
    "First two enteries of the array in each tuple are the two input values.\n",
    "Third entry of the array is the bias(decision boundary), which is needed to move the threshold up and down as needed by the step function.\n",
    "The second element of the tuple is the expected result."
   ]
  },
  {
   "cell_type": "code",
   "execution_count": 3,
   "metadata": {},
   "outputs": [],
   "source": [
    "# Training sequence maps exactly to the definition of the OR function.\n",
    "training_data_OR = [\n",
    "    (array([0,0,1]), 0),\n",
    "    (array([0,1,1]), 1),\n",
    "    (array([1,0,1]), 1),\n",
    "    (array([1,1,1]), 1),\n",
    "]\n",
    "\n",
    "training_data_AND = [\n",
    "    (array([0,0,1]), 0),\n",
    "    (array([0,1,1]), 0),\n",
    "    (array([1,0,1]), 0),\n",
    "    (array([1,1,1]), 1),\n",
    "]\n",
    "\n",
    "training_data_NOR = [\n",
    "    (array([0,0,1]), 1),\n",
    "    (array([0,1,1]), 0),\n",
    "    (array([1,0,1]), 0),\n",
    "    (array([1,1,1]), 0),\n",
    "]\n",
    "\n",
    "training_data_NAND = [\n",
    "    (array([0,0,1]), 1),\n",
    "    (array([0,1,1]), 1),\n",
    "    (array([1,0,1]), 1),\n",
    "    (array([1,1,1]), 0),\n",
    "]"
   ]
  },
  {
   "cell_type": "code",
   "execution_count": 4,
   "metadata": {},
   "outputs": [],
   "source": [
    "# Choose three random numbers between 0 adn 1 as the initial weights.\n",
    "w = random.rand(3)"
   ]
  },
  {
   "cell_type": "code",
   "execution_count": 5,
   "metadata": {},
   "outputs": [],
   "source": [
    "# errors list used to store the error values in order to plot them later.\n",
    "errors = []\n",
    "# eta variable controls the learning rate\n",
    "eta = 0.2\n",
    "# n specifies the number of learning iterations\n",
    "n = 80"
   ]
  },
  {
   "cell_type": "markdown",
   "metadata": {},
   "source": [
    "In order to find the ideal values for the weights w, we try to reduce the error magnitude to zero.\n",
    "\n",
    "Now we get a random input set from the training data and calculate the dot product of the input and weight vectors. This is our (scalar) result, which we compare to the expected result.\n",
    "\n",
    "If the expected result is bigger, we need to incrrease the weights, if it's smaller we need to decrease them.This correction factor is calculated by mutiplying the error with the learning rate and the input vector.\n",
    "It is then added to the weights vector, in order to improve the results in the next iteration."
   ]
  },
  {
   "cell_type": "code",
   "execution_count": 6,
   "metadata": {},
   "outputs": [],
   "source": [
    "for i in range(n):\n",
    "    x, expected = choice(training_data_NOR)\n",
    "    result = dot(w, x)\n",
    "    error = expected - unit_step(result)\n",
    "#     print(\"weights: \", w)\n",
    "#     print(\"Input: {} \\t Result: {} \\t Error: {} \\n\".format(x, result, error))\n",
    "    errors.append(error)\n",
    "    w += eta * error * x"
   ]
  },
  {
   "cell_type": "code",
   "execution_count": 7,
   "metadata": {},
   "outputs": [
    {
     "name": "stdout",
     "output_type": "stream",
     "text": [
      "[0 0]: 0.11948571383969919 -> 1\n",
      "[0 1]: -0.1323571461176214 -> 0\n",
      "[1 0]: -0.13283817813104004 -> 0\n",
      "[1 1]: -0.3846810380883606 -> 0\n"
     ]
    }
   ],
   "source": [
    "# Iterate the respective training data to see the results\n",
    "for x, _ in training_data_NOR:\n",
    "    result = dot(w, x)\n",
    "    print(\"{}: {} -> {}\".format(x[:2], result, unit_step(result)))"
   ]
  },
  {
   "cell_type": "code",
   "execution_count": 9,
   "metadata": {},
   "outputs": [
    {
     "data": {
      "image/png": "[encoded data removed]",
      "text/plain": [
       "<Figure size 432x288 with 1 Axes>"
      ]
     },
     "metadata": {},
     "output_type": "display_data"
    }
   ],
   "source": [
    "import matplotlib.pyplot as plt\n",
    "plt.plot(errors)\n",
    "plt.ylabel(\"Error\")\n",
    "plt.xlabel(\"Iterations\")\n",
    "plt.show()"
   ]
  },
  {
   "cell_type": "code",
   "execution_count": null,
   "metadata": {},
   "outputs": [],
   "source": []
  }
 ],
 "metadata": {
  "kernelspec": {
   "display_name": "Python 3",
   "language": "python",
   "name": "python3"
  },
  "language_info": {
   "codemirror_mode": {
    "name": "ipython",
    "version": 3
   },
   "file_extension": ".py",
   "mimetype": "text/x-python",
   "name": "python",
   "nbconvert_exporter": "python",
   "pygments_lexer": "ipython3",
   "version": "3.6.5"
  }
 },
 "nbformat": 4,
 "nbformat_minor": 2
}
